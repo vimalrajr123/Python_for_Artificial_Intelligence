{
 "cells": [
  {
   "cell_type": "markdown",
   "id": "37293e3f",
   "metadata": {},
   "source": [
    "### Range"
   ]
  },
  {
   "cell_type": "code",
   "execution_count": 17,
   "id": "0268c5b6",
   "metadata": {},
   "outputs": [
    {
     "name": "stdout",
     "output_type": "stream",
     "text": [
      "0\n",
      "1\n",
      "2\n",
      "3\n",
      "4\n",
      "5\n",
      "6\n",
      "7\n",
      "8\n",
      "9\n",
      "10\n",
      "11\n",
      "12\n",
      "13\n",
      "14\n",
      "15\n",
      "16\n",
      "17\n",
      "18\n",
      "19\n"
     ]
    }
   ],
   "source": [
    "for num in range(0,20):\n",
    "    print(num)"
   ]
  },
  {
   "cell_type": "code",
   "execution_count": 18,
   "id": "8fbed070",
   "metadata": {},
   "outputs": [
    {
     "name": "stdout",
     "output_type": "stream",
     "text": [
      "10 11 12 13 14 15 16 17 18 19 "
     ]
    }
   ],
   "source": [
    "for num in range(10,20):\n",
    "    print(num, end = \" \")"
   ]
  },
  {
   "cell_type": "code",
   "execution_count": 19,
   "id": "c709806f",
   "metadata": {},
   "outputs": [
    {
     "name": "stdout",
     "output_type": "stream",
     "text": [
      "[10, 20, 14, 55, 43, 87, 76]\n",
      "Number of item in the List:\n",
      "7\n"
     ]
    }
   ],
   "source": [
    "list_of_Num = [10, 20, 14, 55, 43, 87, 76]\n",
    "print(list_of_Num)\n",
    "print(f\"Number of item in the List:\\n{len(list_of_Num)}\")"
   ]
  },
  {
   "cell_type": "code",
   "execution_count": 3,
   "id": "e9496d25",
   "metadata": {},
   "outputs": [
    {
     "name": "stdout",
     "output_type": "stream",
     "text": [
      "Artificial intelligence\n",
      "A\n",
      "r\n",
      "t\n",
      "i\n",
      "f\n",
      "i\n",
      "c\n",
      "i\n",
      "a\n",
      "l\n",
      " \n",
      "i\n",
      "n\n",
      "t\n",
      "e\n",
      "l\n",
      "l\n",
      "i\n",
      "g\n",
      "e\n",
      "n\n",
      "c\n",
      "e\n"
     ]
    }
   ],
   "source": [
    "text = \"Artificial intelligence\"\n",
    "print(\"Artificial intelligence\")\n",
    "\n",
    "characters = list(text)\n",
    "for char in characters: \n",
    "    print(char)"
   ]
  },
  {
   "cell_type": "markdown",
   "id": "a629ff7e",
   "metadata": {},
   "source": [
    "### Tuple"
   ]
  },
  {
   "cell_type": "code",
   "execution_count": 5,
   "id": "545fa773",
   "metadata": {},
   "outputs": [
    {
     "name": "stdout",
     "output_type": "stream",
     "text": [
      "(1, 'Welcome', 2, 'Hope')\n"
     ]
    }
   ],
   "source": [
    "tup = (1, 'Welcome', 2, 'Hope')\n",
    "print (tup)"
   ]
  },
  {
   "cell_type": "code",
   "execution_count": 1,
   "id": "341e1ef0",
   "metadata": {},
   "outputs": [
    {
     "name": "stdout",
     "output_type": "stream",
     "text": [
      "((0, 1, 2, 3), ('python', 'hope'))\n"
     ]
    }
   ],
   "source": [
    "tuple1 = (0,1,2,3)\n",
    "tuple2 = (\"python\", \"hope\")\n",
    "tuple3 = (tuple1,tuple2)\n",
    "print(tuple3)"
   ]
  },
  {
   "cell_type": "code",
   "execution_count": 2,
   "id": "200c383d",
   "metadata": {},
   "outputs": [
    {
     "name": "stdout",
     "output_type": "stream",
     "text": [
      "19 is odd\n",
      "25 is odd\n",
      "1 is odd\n"
     ]
    }
   ],
   "source": [
    "l1 =[20,10,16,19,25,1,276,188]\n",
    "for i in l1:\n",
    "    if i%2!=0:\n",
    "        print(f\"{i} is odd\")"
   ]
  },
  {
   "cell_type": "code",
   "execution_count": 3,
   "id": "a323599c",
   "metadata": {},
   "outputs": [
    {
     "name": "stdout",
     "output_type": "stream",
     "text": [
      "20 is Even\n",
      "10 is Even\n",
      "16 is Even\n",
      "276 is Even\n",
      "188 is Even\n"
     ]
    }
   ],
   "source": [
    "l2 =[20,10,16,19,25,1,276,188]\n",
    "for n in l2:\n",
    "    if n%2==0:\n",
    "        print(f\"{n} is Even\")"
   ]
  },
  {
   "cell_type": "code",
   "execution_count": null,
   "id": "3d2e2979",
   "metadata": {},
   "outputs": [],
   "source": []
  }
 ],
 "metadata": {
  "kernelspec": {
   "display_name": "Python 3 (ipykernel)",
   "language": "python",
   "name": "python3"
  },
  "language_info": {
   "codemirror_mode": {
    "name": "ipython",
    "version": 3
   },
   "file_extension": ".py",
   "mimetype": "text/x-python",
   "name": "python",
   "nbconvert_exporter": "python",
   "pygments_lexer": "ipython3",
   "version": "3.11.5"
  }
 },
 "nbformat": 4,
 "nbformat_minor": 5
}
