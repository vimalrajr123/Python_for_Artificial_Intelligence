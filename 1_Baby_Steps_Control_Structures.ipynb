{
 "cells": [
  {
   "cell_type": "code",
   "execution_count": 1,
   "id": "be4d7a0c",
   "metadata": {},
   "outputs": [
    {
     "name": "stdout",
     "output_type": "stream",
     "text": [
      "Welcome to Assignment-1\n"
     ]
    }
   ],
   "source": [
    "print(\"Welcome to Assignment-1\")"
   ]
  },
  {
   "cell_type": "code",
   "execution_count": 3,
   "id": "a774b5fe",
   "metadata": {},
   "outputs": [
    {
     "name": "stdout",
     "output_type": "stream",
     "text": [
      "Num1= 10\n",
      "Num2= 30\n",
      "Add= 40\n"
     ]
    }
   ],
   "source": [
    "num1 = 10\n",
    "num2 = 30\n",
    "print(f\"Num1= {num1}\")\n",
    "print(f\"Num2= {num2}\")\n",
    "print(f\"Add= {num1+num2}\")"
   ]
  },
  {
   "cell_type": "markdown",
   "id": "746cb3c9",
   "metadata": {},
   "source": [
    "### Body Mass Index"
   ]
  },
  {
   "cell_type": "code",
   "execution_count": 9,
   "id": "15631c44",
   "metadata": {},
   "outputs": [
    {
     "name": "stdout",
     "output_type": "stream",
     "text": [
      "Enter the BMI Index:34\n",
      "Very Overweight\n"
     ]
    }
   ],
   "source": [
    "bmi = float(input(\"Enter the BMI Index:\"))\n",
    "if (bmi >= 0) and (bmi <= 18.5):\n",
    "    print(\"underweight\")\n",
    "elif (bmi >= 18.5) and (bmi <= 24.9):\n",
    "    print(\"Normal\")\n",
    "elif (bmi >= 25) and (bmi <= 29.9):\n",
    "    print(\"Overweight\")\n",
    "elif (bmi >= 30):\n",
    "    print(\"Very Overweight\")\n",
    "else:\n",
    "    print(\"Invalid BMI Index\")\n",
    "    "
   ]
  }
 ],
 "metadata": {
  "kernelspec": {
   "display_name": "Python 3 (ipykernel)",
   "language": "python",
   "name": "python3"
  },
  "language_info": {
   "codemirror_mode": {
    "name": "ipython",
    "version": 3
   },
   "file_extension": ".py",
   "mimetype": "text/x-python",
   "name": "python",
   "nbconvert_exporter": "python",
   "pygments_lexer": "ipython3",
   "version": "3.11.5"
  }
 },
 "nbformat": 4,
 "nbformat_minor": 5
}
