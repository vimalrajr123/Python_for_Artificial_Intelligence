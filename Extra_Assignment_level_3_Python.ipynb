{
 "cells": [
  {
   "cell_type": "code",
   "execution_count": 3,
   "id": "7f9d492c",
   "metadata": {},
   "outputs": [
    {
     "name": "stdout",
     "output_type": "stream",
     "text": [
      "value:10\n",
      "CORRECT\n"
     ]
    }
   ],
   "source": [
    "# print 'CORRECT' if i == 10\n",
    "\n",
    "num = int(input(\"value:\"))\n",
    "if num==10:\n",
    "    print(\"CORRECT\")\n",
    "else:\n",
    "    print(\"INCORRECT\")"
   ]
  },
  {
   "cell_type": "code",
   "execution_count": 5,
   "id": "dc3b5e41",
   "metadata": {},
   "outputs": [
    {
     "name": "stdout",
     "output_type": "stream",
     "text": [
      "Enter the password:HOPE@123\n",
      "Your password is correct\n"
     ]
    }
   ],
   "source": [
    "# Check the password, using if and else\n",
    "\n",
    "password = input(\"Enter the password:\")\n",
    "if password == \"HOPE@123\":\n",
    "    print(\"Your password is correct\")\n",
    "else:\n",
    "    print(\"Your password is incorrect\")"
   ]
  },
  {
   "cell_type": "code",
   "execution_count": 1,
   "id": "cea1063a",
   "metadata": {},
   "outputs": [
    {
     "name": "stdout",
     "output_type": "stream",
     "text": [
      "age:25\n",
      "young adult\n"
     ]
    }
   ],
   "source": [
    "# Catagory the people by their age like children, adult, citizen, senior citizen...\n",
    "\n",
    "age = int(input(\"age:\"))\n",
    "if age>=0 and age<=16:\n",
    "    print(\"child\")\n",
    "elif age>=17 and age<=30:\n",
    "    print(\"young adult\")\n",
    "elif age>=31 and age<=45:\n",
    "    print(\"mid aged adult\")\n",
    "elif age>=46:\n",
    "    print(\"old aged adult\")\n",
    "else:\n",
    "    print(\"Invalid age\")\n"
   ]
  },
  {
   "cell_type": "code",
   "execution_count": 1,
   "id": "aab617fd",
   "metadata": {},
   "outputs": [
    {
     "name": "stdout",
     "output_type": "stream",
     "text": [
      "Enter any number:0\n",
      "No is zero\n"
     ]
    }
   ],
   "source": [
    "# Find whether given number is positive or negative\n",
    "\n",
    "no = int(input(\"Enter any number:\"))\n",
    "if no>0:\n",
    "    print(\"No is positive\")\n",
    "elif no<0:\n",
    "    print(\"No is negative\")\n",
    "else:\n",
    "    print(\"No is zero\")"
   ]
  },
  {
   "cell_type": "code",
   "execution_count": 7,
   "id": "cfb9acc4",
   "metadata": {},
   "outputs": [
    {
     "name": "stdout",
     "output_type": "stream",
     "text": [
      "Enter a number to check:5\n",
      "No is divisible by 5\n"
     ]
    }
   ],
   "source": [
    "# Check whether the given number is divisible by 5\n",
    "\n",
    "num = int(input(\"Enter a number to check:\"))\n",
    "if num%5==0:\n",
    "    print(\"No is divisible by 5\")\n",
    "else:\n",
    "    print(\"No is not divisible by 5\")\n",
    "    "
   ]
  }
 ],
 "metadata": {
  "kernelspec": {
   "display_name": "Python 3 (ipykernel)",
   "language": "python",
   "name": "python3"
  },
  "language_info": {
   "codemirror_mode": {
    "name": "ipython",
    "version": 3
   },
   "file_extension": ".py",
   "mimetype": "text/x-python",
   "name": "python",
   "nbconvert_exporter": "python",
   "pygments_lexer": "ipython3",
   "version": "3.11.5"
  }
 },
 "nbformat": 4,
 "nbformat_minor": 5
}
