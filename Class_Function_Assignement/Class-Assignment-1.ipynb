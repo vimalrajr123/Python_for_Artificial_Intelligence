{
 "cells": [
  {
   "cell_type": "code",
   "execution_count": 2,
   "id": "079c16b0-32bd-4604-92c1-b88ebf0a1721",
   "metadata": {},
   "outputs": [
    {
     "name": "stdout",
     "output_type": "stream",
     "text": [
      "Sub-fields in AI are:\n",
      "Machine Learning\n",
      "Neural Networks\n",
      "Vision\n",
      "Robotics\n",
      "Speech Processing\n",
      "Natural Language Processing\n"
     ]
    }
   ],
   "source": [
    "class ArtificialIntelligence:\n",
    "\n",
    "    def subfield(self):\n",
    "        sub_fields = [\"Machine Learning\", \"Neural Networks\", \"Vision\", \"Robotics\",\"Speech Processing\", \"Natural Language Processing\"]\n",
    "        print(\"Sub-fields in AI are:\")\n",
    "        for l in sub_fields:\n",
    "            print (l)\n",
    "\n",
    "subfields_in_ai = ArtificialIntelligence()\n",
    "subfields_in_ai.subfield()"
   ]
  },
  {
   "cell_type": "code",
   "execution_count": 19,
   "id": "62f67cb5-4a59-4057-bb04-74980a5c9e8f",
   "metadata": {},
   "outputs": [
    {
     "name": "stdin",
     "output_type": "stream",
     "text": [
      "Enter a number 52452\n"
     ]
    },
    {
     "name": "stdout",
     "output_type": "stream",
     "text": [
      "52452 is Even number\n"
     ]
    }
   ],
   "source": [
    "class Predict:\n",
    "    \n",
    "    def odd_even(self):\n",
    "        num = int(input(\"Enter a number\"))\n",
    "        if num %2==0:\n",
    "            print(f\"{num} is Even number\")\n",
    "        else:\n",
    "            print(f\"{num} is Odd number\")\n",
    "            \n",
    "predict = Predict()\n",
    "predict.odd_even()\n"
   ]
  },
  {
   "cell_type": "code",
   "execution_count": 24,
   "id": "a376d1eb-d07f-4b8a-818b-f643a2330ebb",
   "metadata": {},
   "outputs": [
    {
     "name": "stdin",
     "output_type": "stream",
     "text": [
      "your Gender(Male/Female):  male\n",
      "your Age:  20\n"
     ]
    },
    {
     "name": "stdout",
     "output_type": "stream",
     "text": [
      "Not Eligible\n"
     ]
    }
   ],
   "source": [
    "class MarriageEligibity:\n",
    "    \n",
    "    def eligible(self):\n",
    "        gender = input(\"your Gender(Male/Female): \").capitalize()\n",
    "        age = int(input(\"your Age: \"))\n",
    "        if gender==\"Male\" and age >= 21:\n",
    "            print(\"Eligible\")\n",
    "        elif gender==\"Male\" and age < 21:\n",
    "            print(\"Not Eligible\")\n",
    "        elif gender==\"Female\" and age >= 18:\n",
    "            print(\"Eligible\")\n",
    "        elif gender==\"Female\" and age < 18:\n",
    "            print(\"Not Eligible\")   \n",
    "        else:\n",
    "            print(\"invalid gender or age\")\n",
    "eligible_for_marriage = MarriageEligibity()\n",
    "eligible_for_marriage.eligible()"
   ]
  },
  {
   "cell_type": "code",
   "execution_count": 31,
   "id": "32ad0be8-d576-46aa-b507-0e6ea58e8df3",
   "metadata": {},
   "outputs": [
    {
     "name": "stdin",
     "output_type": "stream",
     "text": [
      "Subject 1:  98\n",
      "Subject 2:  87\n",
      "Subject 3:  95\n",
      "Subject 4:  95\n",
      "Subject 5:  93\n"
     ]
    },
    {
     "name": "stdout",
     "output_type": "stream",
     "text": [
      "Total : 468\n",
      "Percentage : 93.60000000000001\n"
     ]
    }
   ],
   "source": [
    "class FindPercentage:\n",
    "    \n",
    "    def percentage(self):\n",
    "        sub_marks = 0\n",
    "        marks = 0\n",
    "        percentage = 0\n",
    "\n",
    "        \n",
    "        for i in range(5):\n",
    "            marks = int(input(f\"Subject {i+1}: \"))\n",
    "            sub_marks += marks\n",
    "            \n",
    "        print(f\"Total : {sub_marks}\")\n",
    "        percentage = (sub_marks / 500) * 100\n",
    "        print(f\"Percentage : {percentage}\")\n",
    "\n",
    "        \n",
    "find_percentage = FindPercentage()\n",
    "find_percentage.percentage()"
   ]
  },
  {
   "cell_type": "code",
   "execution_count": 32,
   "id": "bd493d48-7107-4e14-a008-b93940dab0a5",
   "metadata": {},
   "outputs": [
    {
     "name": "stdin",
     "output_type": "stream",
     "text": [
      "Height :  32\n",
      "Breadth :  34\n"
     ]
    },
    {
     "name": "stdout",
     "output_type": "stream",
     "text": [
      "Area formula: (Height*Breadth)/2\n",
      "Area of Triangle : 544.0\n"
     ]
    },
    {
     "name": "stdin",
     "output_type": "stream",
     "text": [
      "Height1 :  2\n",
      "Height2 :  4\n",
      "Breadth :  4\n"
     ]
    },
    {
     "name": "stdout",
     "output_type": "stream",
     "text": [
      "Perimeter formula: Height1+Height2+Breadth\n",
      "Perimeter of Triangle : 10\n"
     ]
    }
   ],
   "source": [
    "class Triangle:\n",
    "    \n",
    "    def calculate(self):\n",
    "        height = 0\n",
    "        breadth = 0\n",
    "        h1 = 0\n",
    "        h2 = 0\n",
    "        b1 = 0\n",
    "\n",
    "        height = int(input(f\"Height : \"))\n",
    "        breadth = int(input(f\"Breadth : \"))\n",
    "        print(\"Area formula: (Height*Breadth)/2\")\n",
    "        print(f\"Area of Triangle : {(height*breadth)/2}\")\n",
    "        h1 = int(input(f\"Height1 : \"))\n",
    "        h2 = int(input(f\"Height2 : \"))\n",
    "        b1 = int(input(f\"Breadth : \"))\n",
    "        print(\"Perimeter formula: Height1+Height2+Breadth\")\n",
    "        print(f\"Perimeter of Triangle : {h1+h2+b1}\")\n",
    "\n",
    "\n",
    "        \n",
    "triangle = Triangle()\n",
    "triangle.calculate()"
   ]
  }
 ],
 "metadata": {
  "kernelspec": {
   "display_name": "Python 3 (ipykernel)",
   "language": "python",
   "name": "python3"
  },
  "language_info": {
   "codemirror_mode": {
    "name": "ipython",
    "version": 3
   },
   "file_extension": ".py",
   "mimetype": "text/x-python",
   "name": "python",
   "nbconvert_exporter": "python",
   "pygments_lexer": "ipython3",
   "version": "3.11.5"
  }
 },
 "nbformat": 4,
 "nbformat_minor": 5
}
